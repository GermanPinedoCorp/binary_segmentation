{
 "cells": [
  {
   "cell_type": "code",
   "execution_count": 6,
   "metadata": {},
   "outputs": [
    {
     "name": "stdout",
     "output_type": "stream",
     "text": [
      "(1442, 224, 224)\n",
      "2\n"
     ]
    },
    {
     "data": {
      "image/png": "[encoded data removed]",
      "text/plain": [
       "<Figure size 432x288 with 1 Axes>"
      ]
     },
     "metadata": {
      "needs_background": "light"
     },
     "output_type": "display_data"
    },
    {
     "name": "stdout",
     "output_type": "stream",
     "text": [
      "[ 0.35225516 10.31931463 15.5658703 ]\n",
      "[0.94628374 0.03230189 0.02141437]\n",
      "[0.33333333 0.33333333 0.33333333]\n"
     ]
    },
    {
     "data": {
      "image/png": "[encoded data removed]",
      "text/plain": [
       "<Figure size 432x288 with 1 Axes>"
      ]
     },
     "metadata": {
      "needs_background": "light"
     },
     "output_type": "display_data"
    }
   ],
   "source": [
    "import os\n",
    "import numpy as np\n",
    "import albumentations as T\n",
    "import matplotlib.pyplot as plt\n",
    "from PIL import Image\n",
    "from sklearn.utils import class_weight\n",
    "from mycolorpy import colorlist as mcp\n",
    "\n",
    "def get_filenames(path, ext):\n",
    "    X0 = []\n",
    "    for i in sorted(os.listdir(path)):\n",
    "        if i.endswith(ext):\n",
    "            X0.append(os.path.join(path, i))\n",
    "    return X0\n",
    "\n",
    "def main():\n",
    "    path = \"dataset/224_2C/train_masks/\"\n",
    "    filenames = get_filenames(path, 'tiff')\n",
    "    images = []\n",
    "    for file in filenames:\n",
    "        img = np.array(Image.open(file))\n",
    "\n",
    "        images.append(img)\n",
    "\n",
    "    print(np.array(images).shape)\n",
    "    \n",
    "    array = np.reshape(np.array(images), (np.array(images).shape[0]*np.array(images).shape[1]*np.array(images).shape[2]))\n",
    "    print(np.max(array))\n",
    "    hist, bin_edges, patches = plt.hist(array, bins=[0, 1, 2, 3], density=True, width=1)  # arguments are passed to np.histogram\n",
    "    cm = plt.cm.jet\n",
    "    for i, p in enumerate(patches):\n",
    "        plt.setp(p, 'facecolor', cm(i/3)) # notice the i/25\n",
    "    plt.show()\n",
    "    class_weights = class_weight.compute_class_weight('balanced', classes=[0, 1, 2], y=array)\n",
    "    print(class_weights)\n",
    "    print(hist)\n",
    "    weight_classes = class_weights * hist\n",
    "    print(weight_classes)\n",
    "    color1=mcp.gen_color(cmap=\"jet\",n=3)\n",
    "    plt.figure()\n",
    "    for i in range(weight_classes.shape[0]):\n",
    "        plt.bar(i, weight_classes[i], color=color1[i], width=0.95)\n",
    "    plt.show\n",
    "\n",
    "if __name__ == '__main__':\n",
    "    main()"
   ]
  }
 ],
 "metadata": {
  "interpreter": {
   "hash": "b24ed838d4a46124cbd36f3ed1e02e24eac4a9a48ec44d5c1200085c82eae051"
  },
  "kernelspec": {
   "display_name": "Python 3.7.11 ('torch')",
   "language": "python",
   "name": "python3"
  },
  "language_info": {
   "codemirror_mode": {
    "name": "ipython",
    "version": 3
   },
   "file_extension": ".py",
   "mimetype": "text/x-python",
   "name": "python",
   "nbconvert_exporter": "python",
   "pygments_lexer": "ipython3",
   "version": "3.7.11"
  },
  "orig_nbformat": 4
 },
 "nbformat": 4,
 "nbformat_minor": 2
}
