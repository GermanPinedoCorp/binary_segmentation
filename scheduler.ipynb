{
 "cells": [
  {
   "cell_type": "code",
   "execution_count": 2,
   "metadata": {},
   "outputs": [],
   "source": [
    "import numpy as np\n",
    "\n",
    "import torch.nn as nn\n",
    "import torch.optim as optim\n",
    "from scheduler import CyclicCosineDecayLR\n",
    "\n",
    "import matplotlib.pyplot as plt\n",
    "\n",
    "import warnings\n",
    "# pytorch warns when scheduler.step() is called before optimizer.step()\n",
    "# ignore warnings in this notebook\n",
    "warnings.filterwarnings('ignore')\n",
    "\n",
    "\n",
    "def visualize_learning_rate(scheduler, epochs):\n",
    "    lrs = [[] for _ in range(len(scheduler.optimizer.param_groups))]\n",
    "    for epoch in range(epochs):\n",
    "        train()\n",
    "        validate()\n",
    "        for lst, dct in zip(lrs, scheduler.optimizer.param_groups):\n",
    "            lst.append(dct['lr'])\n",
    "#         lrs.append(scheduler.optimizer.param_groups[0][\"lr\"])\n",
    "        scheduler.step()\n",
    "    \n",
    "    lists = []\n",
    "    for l in lrs:\n",
    "        lists.append(list(range(epochs)))\n",
    "        lists.append(l)\n",
    "    plt.figure(figsize=(12,4)) \n",
    "    lines = plt.plot(*lists)\n",
    "    plt.setp(lines[0], linewidth=3)\n",
    "    plt.title('Learning rate change')\n",
    "    plt.xlabel('Epochs')\n",
    "    plt.ylabel('Learning rate')\n",
    "    plt.grid(True)\n",
    "    plt.show()"
   ]
  },
  {
   "cell_type": "code",
   "execution_count": 3,
   "metadata": {},
   "outputs": [],
   "source": [
    "class TestNet(nn.Module):\n",
    "    def __init__(self):\n",
    "        super(TestNet, self).__init__()\n",
    "        self.fc = nn.Linear(10,5)\n",
    "    def forward(self, x):\n",
    "        return self.fc(x) "
   ]
  },
  {
   "cell_type": "code",
   "execution_count": 25,
   "metadata": {},
   "outputs": [
    {
     "data": {
      "image/png": "[encoded data removed]",
      "text/plain": [
       "<Figure size 864x288 with 1 Axes>"
      ]
     },
     "metadata": {
      "needs_background": "light"
     },
     "output_type": "display_data"
    }
   ],
   "source": [
    "def train():\n",
    "    # training routines run here\n",
    "    # commented out for simplicity\n",
    "    \n",
    "#     model.train()\n",
    "#     for xb, yb in dataloader:\n",
    "#         xb, yb = xb.to(device), yb.to(device)\n",
    "#         optimizer.zero_grad()\n",
    "#         out = model(xb)\n",
    "#         loss = loss_function(out, yb)\n",
    "#         loss.backward()\n",
    "#         optimizer.step()\n",
    "    return\n",
    "\n",
    "def validate():\n",
    "    # validation routines run here \n",
    "    # commented out for simplicity\n",
    "    \n",
    "#     y_pred, y_true = [], []\n",
    "#     model.eval()\n",
    "#     with torch.no_grad():\n",
    "#         for xb, yb in dataloader:\n",
    "#             xb = xb.to(device)\n",
    "#             out = model(xb)\n",
    "#             y_pred.append(out.detach_().cpu())\n",
    "#             y_true.append(yb)\n",
    "#         y_pred = torch.cat(y_pred, dim=0)\n",
    "#         y_true = torch.cat(y_true, dim=0)\n",
    "#     return metric_function(y_pred, y_true)\n",
    "    return\n",
    "model = TestNet()\n",
    "\n",
    "\n",
    "optimizer = optim.SGD(model.parameters(), lr=0.001)\n",
    "scheduler = CyclicCosineDecayLR(optimizer,\n",
    "                                    init_decay_epochs=600,\n",
    "                                    min_decay_lr=5e-6,\n",
    "                                    restart_interval=200,\n",
    "                                    restart_lr=5e-6,\n",
    "                                    warmup_epochs=100,\n",
    "                                    warmup_start_lr=0.0008)\n",
    "\n",
    "visualize_learning_rate(scheduler, epochs=800)\n",
    "\n"
   ]
  }
 ],
 "metadata": {
  "interpreter": {
   "hash": "b24ed838d4a46124cbd36f3ed1e02e24eac4a9a48ec44d5c1200085c82eae051"
  },
  "kernelspec": {
   "display_name": "Python 3.7.11 ('torch')",
   "language": "python",
   "name": "python3"
  },
  "language_info": {
   "codemirror_mode": {
    "name": "ipython",
    "version": 3
   },
   "file_extension": ".py",
   "mimetype": "text/x-python",
   "name": "python",
   "nbconvert_exporter": "python",
   "pygments_lexer": "ipython3",
   "version": "3.7.11"
  },
  "orig_nbformat": 4
 },
 "nbformat": 4,
 "nbformat_minor": 2
}
